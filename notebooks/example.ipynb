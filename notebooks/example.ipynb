{
 "cells": [
  {
   "cell_type": "code",
   "execution_count": 1,
   "metadata": {},
   "outputs": [
    {
     "ename": "ImportError",
     "evalue": "cannot import name 'sasc' from 'phylo' (/home/sic/.local/lib/python3.8/site-packages/phylo/__init__.py)",
     "output_type": "error",
     "traceback": [
      "\u001b[0;31m---------------------------------------------------------------------------\u001b[0m",
      "\u001b[0;31mImportError\u001b[0m                               Traceback (most recent call last)",
      "\u001b[0;32m<ipython-input-1-e00632728dff>\u001b[0m in \u001b[0;36m<module>\u001b[0;34m\u001b[0m\n\u001b[0;32m----> 1\u001b[0;31m \u001b[0;32mfrom\u001b[0m \u001b[0mphylo\u001b[0m \u001b[0;32mimport\u001b[0m \u001b[0mcelluloid\u001b[0m\u001b[0;34m,\u001b[0m \u001b[0msasc\u001b[0m\u001b[0;34m,\u001b[0m \u001b[0mmp3\u001b[0m\u001b[0;34m\u001b[0m\u001b[0;34m\u001b[0m\u001b[0m\n\u001b[0m\u001b[1;32m      2\u001b[0m \u001b[0;32mimport\u001b[0m \u001b[0mglob\u001b[0m\u001b[0;34m\u001b[0m\u001b[0;34m\u001b[0m\u001b[0m\n\u001b[1;32m      3\u001b[0m \u001b[0;32mimport\u001b[0m \u001b[0mnumpy\u001b[0m \u001b[0;32mas\u001b[0m \u001b[0mnp\u001b[0m\u001b[0;34m\u001b[0m\u001b[0;34m\u001b[0m\u001b[0m\n\u001b[1;32m      4\u001b[0m \u001b[0;32mfrom\u001b[0m \u001b[0mmatplotlib\u001b[0m \u001b[0;32mimport\u001b[0m \u001b[0mpyplot\u001b[0m \u001b[0;32mas\u001b[0m \u001b[0mplt\u001b[0m\u001b[0;34m\u001b[0m\u001b[0;34m\u001b[0m\u001b[0m\n\u001b[1;32m      5\u001b[0m \u001b[0;32mimport\u001b[0m \u001b[0mnetworkx\u001b[0m \u001b[0;32mas\u001b[0m \u001b[0mnx\u001b[0m\u001b[0;34m\u001b[0m\u001b[0;34m\u001b[0m\u001b[0m\n",
      "\u001b[0;31mImportError\u001b[0m: cannot import name 'sasc' from 'phylo' (/home/sic/.local/lib/python3.8/site-packages/phylo/__init__.py)"
     ]
    }
   ],
   "source": [
    "from plastic import clustering, phylogeny, treesim\n",
    "import glob\n",
    "import numpy as np\n",
    "from matplotlib import pyplot as plt\n",
    "import networkx as nx\n",
    "import pickle\n",
    "from colour import Color\n",
    "from sklearn.decomposition import PCA\n",
    "import seaborn as sns"
   ]
  },
  {
   "cell_type": "code",
   "execution_count": null,
   "metadata": {},
   "outputs": [],
   "source": [
    "#help(celluloid)"
   ]
  },
  {
   "cell_type": "markdown",
   "metadata": {},
   "source": [
    "# Loading"
   ]
  },
  {
   "cell_type": "code",
   "execution_count": null,
   "metadata": {},
   "outputs": [],
   "source": [
    "patients = list()\n",
    "patients_names = list()\n",
    "for f in glob.glob('medullo/called/*.txt'):\n",
    "    patients_names.append(f.split('/')[-1].replace('.txt', ''))\n",
    "    p = clustering.GenotypeMatrix(np.loadtxt(f, delimiter=' '),\n",
    "                                 cell_labels=list(map(str.strip, open(f'{f}.cells').readlines())),\n",
    "                                 mutation_labels=list(map(str.strip, open(f'{f}.muts').readlines()))\n",
    "                                )\n",
    "    patients.append(p)"
   ]
  },
  {
   "cell_type": "markdown",
   "metadata": {},
   "source": [
    "# Clustering"
   ]
  },
  {
   "cell_type": "code",
   "execution_count": null,
   "metadata": {
    "scrolled": true
   },
   "outputs": [],
   "source": [
    "clustered_patients = list()\n",
    "for ix, p in enumerate(patients):\n",
    "    try:\n",
    "        c = clustering.GenotypeMatrix.from_serializable_dict(\n",
    "            pickle.load(open(f'medullo/clustered/{patients_names[ix]}.p', 'rb'))\n",
    "        )\n",
    "    except:\n",
    "        c = clustering.cluster_mutations(p, k=50, n_inits=5, max_iter=50, verbose=True)\n",
    "        pickle.dump(c.to_serializable_dict(), open(f'medullo/clustered/{patients_names[ix]}.p', 'wb'))\n",
    "    clustered_patients.append(c)"
   ]
  },
  {
   "cell_type": "code",
   "execution_count": null,
   "metadata": {},
   "outputs": [],
   "source": [
    "def build_colormap(unclustered, clustered):\n",
    "    mapping = dict()\n",
    "    for ix, l in enumerate(clustered):\n",
    "        for ll in l.split(','):\n",
    "            mapping[ll] = ix\n",
    "            \n",
    "    colors = list()\n",
    "    for l in unclustered:\n",
    "        colors.append(mapping[l])\n",
    "        \n",
    "    return colors"
   ]
  },
  {
   "cell_type": "code",
   "execution_count": null,
   "metadata": {},
   "outputs": [],
   "source": [
    "from sklearn.manifold import TSNE\n",
    "\n",
    "COLS = 9\n",
    "fig, axes = plt.subplots(nrows=int(len(clustered_patients)/COLS), ncols=COLS, figsize=(20,10))\n",
    "ax = axes.flatten()\n",
    "pca = PCA(n_components=2)\n",
    "tsne = TSNE(n_components=2)\n",
    "\n",
    "for ix, c in enumerate(clustered_patients):\n",
    "    red = pca.fit_transform(patients[ix].matrix().transpose())\n",
    "#     red = tsne.fit_transform(patients[ix].matrix().transpose())\n",
    "    ax[ix].scatter(x=red[:,0], y=red[:,1], c=build_colormap(patients[ix].mutation_labels, c.mutation_labels))\n",
    "    \n",
    "    ax[ix].set_axis_off()\n",
    "    ax[ix].set_title(patients_names[ix])\n",
    "\n",
    "plt.tight_layout()\n",
    "plt.savefig('medullo/mutclusters.pdf')\n",
    "plt.show()"
   ]
  },
  {
   "cell_type": "markdown",
   "metadata": {},
   "source": [
    "# Phylogeny inference"
   ]
  },
  {
   "cell_type": "code",
   "execution_count": null,
   "metadata": {},
   "outputs": [],
   "source": [
    "#help(sasc)"
   ]
  },
  {
   "cell_type": "code",
   "execution_count": null,
   "metadata": {},
   "outputs": [],
   "source": [
    "inferred_trees = list()\n",
    "for ix, p in enumerate(clustered_patients):\n",
    "    try:\n",
    "        t = pickle.load(open(f'medullo/inferred/{patients_names[ix]}.p', 'rb'))\n",
    "    except:\n",
    "        t = sasc.infer_tree(p, alphas=0.25, beta=1e-4, k=0, max_deletions=0, cores=4, get_cells=True)\n",
    "        pickle.dump(t, open(f'medullo/inferred/{patients_names[ix]}.p', 'wb'))\n",
    "#     t = sasc.infer_tree(p, alphas=0.25, beta=1e-4, k=1, max_deletions=2, cores=4, get_cells=True)\n",
    "    inferred_trees.append(t)"
   ]
  },
  {
   "cell_type": "markdown",
   "metadata": {},
   "source": [
    "# Plot inferred trees (update)"
   ]
  },
  {
   "cell_type": "code",
   "execution_count": null,
   "metadata": {},
   "outputs": [],
   "source": [
    "def get_label_to_id_map(tree):\n",
    "    return {\n",
    "        node: '' if 'label' not in tree.nodes[node] else tree.nodes[node]['label']\n",
    "        for node in tree\n",
    "    }"
   ]
  },
  {
   "cell_type": "code",
   "execution_count": null,
   "metadata": {},
   "outputs": [],
   "source": [
    "COLS = 9\n",
    "fig, axes = plt.subplots(nrows=int(len(inferred_trees)/COLS), ncols=COLS, figsize=(20,10))\n",
    "ax = axes.flatten()\n",
    "c_gradient = list(Color(\"#3270FC\").range_to(Color(\"#397D02\"), 101))\n",
    "\n",
    "\n",
    "for ix, p in enumerate(inferred_trees):\n",
    "    t = p['inferred_tree'].with_visualization_features(support_threshold=0.2, collapse_simple_paths=True).as_digraph()\n",
    "    p['inferred_tree'].without_cells().draw_to_file(f'medullo/trees/{patients_names[ix]}.gv')\n",
    "    nx.draw(\n",
    "        t,\n",
    "        pos=nx.nx_agraph.graphviz_layout(t, prog=\"dot\"),\n",
    "#         labels=get_label_to_id_map(t),\n",
    "        node_size=50,\n",
    "        node_color=[c_gradient[int(v)].hex for k, v in nx.get_node_attributes(t,'support').items()],\n",
    "        arrowstyle='-',\n",
    "        ax=ax[ix]\n",
    "    )\n",
    "    ax[ix].set_axis_off()\n",
    "    ax[ix].set_title(patients_names[ix])\n",
    "\n",
    "plt.tight_layout()\n",
    "plt.savefig('medullo/trees.pdf')\n",
    "plt.show()"
   ]
  },
  {
   "cell_type": "markdown",
   "metadata": {},
   "source": [
    "# Compare trees"
   ]
  },
  {
   "cell_type": "code",
   "execution_count": null,
   "metadata": {},
   "outputs": [],
   "source": [
    "similarity_matrix = np.ones((len(inferred_trees), len(inferred_trees)))\n",
    "\n",
    "# for i in range(similarity_matrix.shape[0]):\n",
    "#     for j in range(i+1, similarity_matrix.shape[1]):\n",
    "#         s = mp3.tree_similarity(\n",
    "#             inferred_trees[i]['inferred_tree'].without_cells(),\n",
    "#             inferred_trees[j]['inferred_tree'].without_cells(),\n",
    "#             cores=8\n",
    "#         )\n",
    "#         similarity_matrix[i][j] = s\n",
    "#         similarity_matrix[j][i] = s"
   ]
  },
  {
   "cell_type": "code",
   "execution_count": null,
   "metadata": {},
   "outputs": [],
   "source": [
    "for i in range(similarity_matrix.shape[0]):\n",
    "    for j in range(similarity_matrix.shape[1]):\n",
    "        try:\n",
    "            s = float(open(f'medullo/mp3/{patients_names[i]}.{patients_names[j]}.txt', 'r').readlines()[0].strip())\n",
    "            similarity_matrix[i][j] = s\n",
    "            similarity_matrix[j][i] = s\n",
    "        except:\n",
    "            s = -1\n",
    "#             similarity_matrix[i][j] = s\n",
    "#             similarity_matrix[j][i] = s"
   ]
  },
  {
   "cell_type": "code",
   "execution_count": null,
   "metadata": {},
   "outputs": [],
   "source": [
    "# similarity_matrix = np.zeros((len(inferred_trees), len(inferred_trees)))\n",
    "# for i in range(similarity_matrix.shape[0]):\n",
    "#     for j in range(similarity_matrix.shape[1]):\n",
    "#         try:\n",
    "#             s = float(open(f'medullo/mp3/{patients_names[i]}.{patients_names[j]}.txt', 'r').readlines()[0].strip())\n",
    "#             similarity_matrix[i][j] = s\n",
    "#             similarity_matrix[j][i] = s\n",
    "#         except:\n",
    "#             if i == j:\n",
    "#                 similarity_matrix[i][j] = 1.0\n",
    "#             s = -1\n",
    "# #             similarity_matrix[i][j] = s\n",
    "# #             similarity_matrix[j][i] = s\n",
    "# print(similarity_matrix)\n",
    "\n",
    "# np.savetxt('medullo/treesim/similarities.csv', similarity_matrix, delimiter=',')"
   ]
  },
  {
   "cell_type": "code",
   "execution_count": null,
   "metadata": {},
   "outputs": [],
   "source": [
    "plt.figure(figsize=(12,9))\n",
    "sns.heatmap(similarity_matrix)\n",
    "plt.savefig('medullo/sim.pdf')\n",
    "plt.show()"
   ]
  },
  {
   "cell_type": "markdown",
   "metadata": {},
   "source": [
    "# Hierarchical clustering"
   ]
  },
  {
   "cell_type": "code",
   "execution_count": null,
   "metadata": {},
   "outputs": [],
   "source": [
    "sns.clustermap(similarity_matrix, cbar_pos=(1.1, .2, .03, .4), col_cluster=False)\n",
    "plt.savefig('medullo/clustermap.pdf')\n",
    "plt.show()"
   ]
  },
  {
   "cell_type": "code",
   "execution_count": null,
   "metadata": {},
   "outputs": [],
   "source": [
    "from sklearn.metrics import silhouette_score\n",
    "\n",
    "\n",
    "# Transform the similarity matrix to a distance matrix\n",
    "# as needed for a silhouette score computation\n",
    "\n",
    "dist_matrix = np.zeros_like(similarity_matrix)\n",
    "for index, _ in np.ndenumerate(similarity_matrix):\n",
    "    dist_matrix[index] = 1 - similarity_matrix[index]\n",
    "    \n",
    "\n",
    "# Compute silhouette scores at different cuts\n",
    "sil_scores = list()\n",
    "for n_clust in range(2, 30):\n",
    "    nodes = fcluster(Z, n_clust, criterion=\"maxclust\")\n",
    "    sil_scores.append(silhouette_score(dist_matrix, nodes, metric='precomputed'))\n",
    "    \n",
    "sns.lineplot(x=range(2, 30), y=sil_scores)"
   ]
  },
  {
   "cell_type": "code",
   "execution_count": null,
   "metadata": {},
   "outputs": [],
   "source": [
    "from scipy.cluster.hierarchy import linkage, fcluster\n",
    "\n",
    "# Build linkage clustering\n",
    "Z = linkage(similarity_matrix)\n",
    "\n",
    "# Get labelling with a cut of 3 clusters\n",
    "labels = fcluster(Z, 5, criterion=\"maxclust\")\n",
    "print(labels)"
   ]
  },
  {
   "cell_type": "code",
   "execution_count": null,
   "metadata": {},
   "outputs": [],
   "source": []
  }
 ],
 "metadata": {
  "kernelspec": {
   "display_name": "Python 3",
   "language": "python",
   "name": "python3"
  },
  "language_info": {
   "codemirror_mode": {
    "name": "ipython",
    "version": 3
   },
   "file_extension": ".py",
   "mimetype": "text/x-python",
   "name": "python",
   "nbconvert_exporter": "python",
   "pygments_lexer": "ipython3",
   "version": "3.8.5"
  }
 },
 "nbformat": 4,
 "nbformat_minor": 4
}
